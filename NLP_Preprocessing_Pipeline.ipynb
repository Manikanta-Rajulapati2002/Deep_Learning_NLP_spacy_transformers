{
 "cells": [
  {
   "cell_type": "code",
   "execution_count": 1,
   "id": "7e19ab82-95ba-4ade-b460-7b1c94ef7072",
   "metadata": {},
   "outputs": [
    {
     "name": "stderr",
     "output_type": "stream",
     "text": [
      "[nltk_data] Downloading package punkt to C:\\Users\\Manikanta\n",
      "[nltk_data]     Rajulapati\\AppData\\Roaming\\nltk_data...\n",
      "[nltk_data]   Package punkt is already up-to-date!\n",
      "[nltk_data] Downloading package stopwords to C:\\Users\\Manikanta\n",
      "[nltk_data]     Rajulapati\\AppData\\Roaming\\nltk_data...\n",
      "[nltk_data]   Package stopwords is already up-to-date!\n"
     ]
    },
    {
     "name": "stdout",
     "output_type": "stream",
     "text": [
      "Original Tokens: ['NLP', 'techniques', 'are', 'used', 'in', 'virtual', 'assistants', 'like', 'Alexa', 'and', 'Siri', '.']\n",
      "Tokens Without Stopwords: ['NLP', 'techniques', 'used', 'virtual', 'assistants', 'like', 'Alexa', 'Siri', '.']\n",
      "Stemmed Words: ['nlp', 'techniqu', 'use', 'virtual', 'assist', 'like', 'alexa', 'siri', '.']\n"
     ]
    }
   ],
   "source": [
    "import nltk\n",
    "from nltk.tokenize import word_tokenize\n",
    "from nltk.corpus import stopwords\n",
    "from nltk.stem import PorterStemmer\n",
    "\n",
    "# Download resources (only needed once)\n",
    "nltk.download('punkt')\n",
    "nltk.download('stopwords')\n",
    "\n",
    "def nlp_preprocessing_pipeline(sentence):\n",
    "    # Step 1: Tokenization\n",
    "    tokens = word_tokenize(sentence)\n",
    "    print(\"Original Tokens:\", tokens)\n",
    "    \n",
    "    # Step 2: Remove Stopwords\n",
    "    stop_words = set(stopwords.words('english'))\n",
    "    tokens_without_stopwords = [word for word in tokens if word.lower() not in stop_words]\n",
    "    print(\"Tokens Without Stopwords:\", tokens_without_stopwords)\n",
    "    \n",
    "    # Step 3: Apply Stemming\n",
    "    stemmer = PorterStemmer()\n",
    "    stemmed_tokens = [stemmer.stem(word) for word in tokens_without_stopwords]\n",
    "    print(\"Stemmed Words:\", stemmed_tokens)\n",
    "\n",
    "# Example sentence\n",
    "sentence = \"NLP techniques are used in virtual assistants like Alexa and Siri.\"\n",
    "nlp_preprocessing_pipeline(sentence)\n"
   ]
  },
  {
   "cell_type": "markdown",
   "id": "f82e19f2-3a49-4060-9b00-631b65624641",
   "metadata": {},
   "source": [
    "# 1. What is the difference between stemming and lemmatization? Provide examples with the word \"running\"."
   ]
  },
  {
   "cell_type": "markdown",
   "id": "4e923ff6-79b5-4c16-ac09-846135e9fe82",
   "metadata": {},
   "source": [
    "Stemming is a crude technique that chops off the ends of words to get to the root form, often resulting in non-words.\n",
    "\n",
    "Lemmatization is more advanced; it uses vocabulary and morphological analysis to return the base or dictionary form of a word (called a lemma).\n",
    "\n",
    "Example with the word “running”:\n",
    "\n",
    "Stemming using PorterStemmer might return: run\n",
    "\n",
    "Lemmatization (using WordNetLemmatizer with POS tag as verb) would return: run\n",
    "\n",
    "Although they return the same in this case, for other words like “better”:\n",
    "\n",
    "Stemmer → better\n",
    "\n",
    "Lemmatizer → good (if POS is adjective)\n",
    "\n",
    "So, lemmatization provides more accurate results, but is slower and more complex than stemming."
   ]
  },
  {
   "cell_type": "markdown",
   "id": "1582f81b-ae02-4687-badb-569e1d68db7c",
   "metadata": {},
   "source": [
    "# 2. Why might removing stop words be useful in some NLP tasks, and when might it actaully be harmful?"
   ]
  },
  {
   "cell_type": "markdown",
   "id": "c7a00fe2-88d6-4a5b-8301-c7e06f9882ae",
   "metadata": {},
   "source": [
    "Useful:\n",
    "Removing stopwords helps reduce noise in the data by eliminating common, low-information words like \"the\", \"in\", \"is\". This is especially helpful in tasks like:\n",
    "\n",
    "Topic modeling\n",
    "\n",
    "Document classification\n",
    "\n",
    "Information retrieval\n",
    "\n",
    "Harmful:\n",
    "However, removing stopwords can be harmful when:\n",
    "\n",
    "The meaning of the sentence depends on those words.\n",
    "\n",
    "For example, in sentiment analysis, removing words like \"not\" could change the meaning:\n",
    "\n",
    "Original: \"This movie is not good.\"\n",
    "\n",
    "After stopword removal: \"movie good\" → wrongly interpreted as positive.\n",
    "\n",
    "So, the use of stopword removal depends on the context of the task."
   ]
  },
  {
   "cell_type": "code",
   "execution_count": null,
   "id": "959be1c8-71a3-4b0d-a33b-4343ea66d37d",
   "metadata": {},
   "outputs": [],
   "source": []
  }
 ],
 "metadata": {
  "kernelspec": {
   "display_name": "Python [conda env:sunny]",
   "language": "python",
   "name": "conda-env-sunny-py"
  },
  "language_info": {
   "codemirror_mode": {
    "name": "ipython",
    "version": 3
   },
   "file_extension": ".py",
   "mimetype": "text/x-python",
   "name": "python",
   "nbconvert_exporter": "python",
   "pygments_lexer": "ipython3",
   "version": "3.12.8"
  }
 },
 "nbformat": 4,
 "nbformat_minor": 5
}
